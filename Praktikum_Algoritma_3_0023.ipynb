{
  "nbformat": 4,
  "nbformat_minor": 0,
  "metadata": {
    "colab": {
      "provenance": [],
      "authorship_tag": "ABX9TyNXwAuPKMSHDgbgaqleGgCJ",
      "include_colab_link": true
    },
    "kernelspec": {
      "name": "python3",
      "display_name": "Python 3"
    },
    "language_info": {
      "name": "python"
    }
  },
  "cells": [
    {
      "cell_type": "markdown",
      "metadata": {
        "id": "view-in-github",
        "colab_type": "text"
      },
      "source": [
        "<a href=\"https://colab.research.google.com/github/marioyos023-dev/Praktikum_1_0023/blob/main/Praktikum_Algoritma_3_0023.ipynb\" target=\"_parent\"><img src=\"https://colab.research.google.com/assets/colab-badge.svg\" alt=\"Open In Colab\"/></a>"
      ]
    },
    {
      "cell_type": "code",
      "execution_count": 2,
      "metadata": {
        "colab": {
          "base_uri": "https://localhost:8080/"
        },
        "id": "FQLVML-etJA8",
        "outputId": "03fa30b0-d55c-4df8-9a42-10cc67caafa4"
      },
      "outputs": [
        {
          "output_type": "stream",
          "name": "stdout",
          "text": [
            "=== Program Persamaan Gas Ideal PV = nRT ===\n",
            "Pilih variabel yang ingin dihitung:\n",
            "1. Tekanan (P)\n",
            "2. Volume (V)\n",
            "3. Jumlah mol (n)\n",
            "4. Suhu (T)\n",
            "Masukkan pilihan (1/2/3/4): 4\n",
            "Masukkan tekanan: 101325\n",
            "Masukkan satuan tekanan (Pa/atm): Pa\n",
            "Masukkan volume: 0.02\n",
            "Masukkan satuan volume (L/m3): m3\n",
            "Masukkan jumlah mol (mol): 1\n",
            "\n",
            "Suhu (T) = 243.75 K\n"
          ]
        }
      ],
      "source": [
        "R = 8.314\n",
        "\n",
        "def konversi_tekanan(nilai, satuan):\n",
        "    if satuan.lower() == \"atm\":\n",
        "        return nilai * 101325\n",
        "    elif satuan.lower() == \"pa\":\n",
        "        return nilai\n",
        "    else:\n",
        "        raise ValueError(\"Satuan tekanan tidak valid. Gunakan 'Pa' atau 'atm'.\")\n",
        "\n",
        "def konversi_volume(nilai, satuan):\n",
        "    if satuan.lower() == \"l\":\n",
        "        return nilai / 1000\n",
        "    elif satuan.lower() == \"m3\" or satuan.lower() == \"m³\":\n",
        "        return nilai\n",
        "    else:\n",
        "        raise ValueError(\"Satuan volume tidak valid. Gunakan 'L' atau 'm3'.\")\n",
        "\n",
        "def konversi_suhu(nilai, satuan):\n",
        "    if satuan.lower() == \"c\" or satuan.lower() == \"°c\":\n",
        "        return nilai + 273.15\n",
        "    elif satuan.lower() == \"k\":\n",
        "        return nilai\n",
        "    else:\n",
        "        raise ValueError(\"Satuan suhu tidak valid. Gunakan 'C' atau 'K'.\")\n",
        "\n",
        "def hitung_variabel():\n",
        "    print(\"=== Program Persamaan Gas Ideal PV = nRT ===\")\n",
        "    print(\"Pilih variabel yang ingin dihitung:\")\n",
        "    print(\"1. Tekanan (P)\")\n",
        "    print(\"2. Volume (V)\")\n",
        "    print(\"3. Jumlah mol (n)\")\n",
        "    print(\"4. Suhu (T)\")\n",
        "\n",
        "    pilihan = input(\"Masukkan pilihan (1/2/3/4): \")\n",
        "\n",
        "    try:\n",
        "        if pilihan == \"1\":\n",
        "            n = float(input(\"Masukkan jumlah mol (mol): \"))\n",
        "            V = float(input(\"Masukkan volume: \"))\n",
        "            satuan_V = input(\"Masukkan satuan volume (L/m3): \")\n",
        "            V_SI = konversi_volume(V, satuan_V)\n",
        "            T = float(input(\"Masukkan suhu: \"))\n",
        "            satuan_T = input(\"Masukkan satuan suhu (C/K): \")\n",
        "            T_SI = konversi_suhu(T, satuan_T)\n",
        "            P = (n * R * T_SI) / V_SI\n",
        "            print(f\"\\nTekanan (P) = {P:.2f} Pa\")\n",
        "\n",
        "        elif pilihan == \"2\":\n",
        "            P = float(input(\"Masukkan tekanan: \"))\n",
        "            satuan_P = input(\"Masukkan satuan tekanan (Pa/atm): \")\n",
        "            P_SI = konversi_tekanan(P, satuan_P)\n",
        "            n = float(input(\"Masukkan jumlah mol (mol): \"))\n",
        "            T = float(input(\"Masukkan suhu: \"))\n",
        "            satuan_T = input(\"Masukkan satuan suhu (C/K): \")\n",
        "            T_SI = konversi_suhu(T, satuan_T)\n",
        "            V = (n * R * T_SI) / P_SI\n",
        "            print(f\"\\nVolume (V) = {V:.6f} m³\")\n",
        "\n",
        "        elif pilihan == \"3\":\n",
        "            P = float(input(\"Masukkan tekanan: \"))\n",
        "            satuan_P = input(\"Masukkan satuan tekanan (Pa/atm): \")\n",
        "            P_SI = konversi_tekanan(P, satuan_P)\n",
        "            V = float(input(\"Masukkan volume: \"))\n",
        "            satuan_V = input(\"Masukkan satuan volume (L/m3): \")\n",
        "            V_SI = konversi_volume(V, satuan_V)\n",
        "            T = float(input(\"Masukkan suhu: \"))\n",
        "            satuan_T = input(\"Masukkan satuan suhu (C/K): \")\n",
        "            T_SI = konversi_suhu(T, satuan_T)\n",
        "            n = (P_SI * V_SI) / (R * T_SI)\n",
        "            print(f\"\\nJumlah mol (n) = {n:.5f} mol\")\n",
        "\n",
        "        elif pilihan == \"4\":\n",
        "            P = float(input(\"Masukkan tekanan: \"))\n",
        "            satuan_P = input(\"Masukkan satuan tekanan (Pa/atm): \")\n",
        "            P_SI = konversi_tekanan(P, satuan_P)\n",
        "            V = float(input(\"Masukkan volume: \"))\n",
        "            satuan_V = input(\"Masukkan satuan volume (L/m3): \")\n",
        "            V_SI = konversi_volume(V, satuan_V)\n",
        "            n = float(input(\"Masukkan jumlah mol (mol): \"))\n",
        "            T = (P_SI * V_SI) / (n * R)\n",
        "            print(f\"\\nSuhu (T) = {T:.2f} K\")\n",
        "\n",
        "        else:\n",
        "            print(\"Pilihan tidak valid.\")\n",
        "    except ValueError as e:\n",
        "        print(f\"Error: {e}\")\n",
        "    except ZeroDivisionError:\n",
        "        print(\"Error: Pembagian dengan nol tidak diperbolehkan.\")\n",
        "\n",
        "hitung_variabel()"
      ]
    }
  ]
}