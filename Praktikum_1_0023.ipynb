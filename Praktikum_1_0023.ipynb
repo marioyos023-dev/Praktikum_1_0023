{
  "nbformat": 4,
  "nbformat_minor": 0,
  "metadata": {
    "colab": {
      "provenance": [],
      "authorship_tag": "ABX9TyOw2GymfeCjjtXCAYcd4Lq4",
      "include_colab_link": true
    },
    "kernelspec": {
      "name": "python3",
      "display_name": "Python 3"
    },
    "language_info": {
      "name": "python"
    }
  },
  "cells": [
    {
      "cell_type": "markdown",
      "metadata": {
        "id": "view-in-github",
        "colab_type": "text"
      },
      "source": [
        "<a href=\"https://colab.research.google.com/github/marioyos023-dev/Praktikum_1_0023/blob/main/Praktikum_1_0023.ipynb\" target=\"_parent\"><img src=\"https://colab.research.google.com/assets/colab-badge.svg\" alt=\"Open In Colab\"/></a>"
      ]
    },
    {
      "cell_type": "code",
      "execution_count": 4,
      "metadata": {
        "colab": {
          "base_uri": "https://localhost:8080/"
        },
        "id": "vqXN9uJHkOYi",
        "outputId": "9ceeab48-4032-493e-89d7-3aa1d2f0356a"
      },
      "outputs": [
        {
          "output_type": "stream",
          "name": "stdout",
          "text": [
            "Kasus 1-Kendaraan Darat\n",
            "Kecepatan Mobil A:22.22 m/s\n",
            "Kecepatan Motor B:30.00 m/s\n",
            "Kecepatan Sepeda C:20.00 m/s\n",
            "Kecepatan Motor B tertinggi\n",
            "\n",
            "Kasus 2-Atlet Lari\n",
            "Kecepatan Pelari 1:8.00 m/s\n",
            "Kecepatan Pelari 2:6.67 m/s\n",
            "Kecepatan Pelari 3:9.09 m/s\n",
            "Pelari 3 tercepat\n",
            "\n",
            "Kasus 3-Transportasi Umum\n",
            "Kecepatan Kereta Ringan:27.78 m/s\n",
            "Kecepatan Bus Kota:25.00 m/s\n",
            "Kecepatan Truk:20.83 m/s\n",
            "Kereta Ringan paling cepat\n",
            "\n",
            "Kasus 4-Udara, Laut, dan Darat\n",
            "Kecepatan Drone:20.00 m/s\n",
            "Kecepatan Kapal Cepat:16.67 m/s\n",
            "Kecepatan Pemain Sepak Bola:8.57 m/s\n",
            "Drone yang tercepat\n"
          ]
        }
      ],
      "source": [
        "def hitung_kecepatan(jarak, waktu):\n",
        "  return jarak / waktu\n",
        "print(\"Kasus 1-Kendaraan Darat\")\n",
        "mobil_A = hitung_kecepatan(2000, 90)\n",
        "motor_B = hitung_kecepatan(1500, 50)\n",
        "sepeda_C = hitung_kecepatan(800, 40)\n",
        "print(f\"Kecepatan Mobil A:{mobil_A:.2f} m/s\")\n",
        "print(f\"Kecepatan Motor B:{motor_B:.2f} m/s\")\n",
        "print(f\"Kecepatan Sepeda C:{sepeda_C:.2f} m/s\")\n",
        "if mobil_A > motor_B and mobil_A > sepeda_C:\n",
        "  print(\"Kecepatan Mobil A tertinggi\")\n",
        "elif motor_B > mobil_A and motor_B > sepeda_C:\n",
        "  print(\"Kecepatan Motor B tertinggi\")\n",
        "else:\n",
        "  print(\"Kecepatan Sepeda C tertinggi\")\n",
        "\n",
        "print()\n",
        "\n",
        "print(\"Kasus 2-Atlet Lari\")\n",
        "pelari_1 = hitung_kecepatan(400, 50)\n",
        "pelari_2 = hitung_kecepatan(800, 120)\n",
        "pelari_3 = hitung_kecepatan(100, 11)\n",
        "print(f\"Kecepatan Pelari 1:{pelari_1:.2f} m/s\")\n",
        "print(f\"Kecepatan Pelari 2:{pelari_2:.2f} m/s\")\n",
        "print(f\"Kecepatan Pelari 3:{pelari_3:.2f} m/s\")\n",
        "if pelari_1 > pelari_2 and pelari_1 > pelari_3:\n",
        "  print(\"Pelari 1 tercepat\")\n",
        "elif pelari_2 > pelari_1 and pelari_2 > pelari_3:\n",
        "  print(\"Pelari 2 tercepat\")\n",
        "else:\n",
        "  print(\"Pelari 3 tercepat\")\n",
        "\n",
        "print()\n",
        "\n",
        "print(\"Kasus 3-Transportasi Umum\")\n",
        "kereta_ringan = hitung_kecepatan(5000, 180)\n",
        "bus_kota = hitung_kecepatan(3000, 120)\n",
        "truk = hitung_kecepatan(2500, 120)\n",
        "print(f\"Kecepatan Kereta Ringan:{kereta_ringan:.2f} m/s\")\n",
        "print(f\"Kecepatan Bus Kota:{bus_kota:.2f} m/s\")\n",
        "print(f\"Kecepatan Truk:{truk:.2f} m/s\")\n",
        "if kereta_ringan > bus_kota and kereta_ringan > truk:\n",
        "  print(\"Kereta Ringan paling cepat\")\n",
        "elif bus_kota > kereta_ringan and bus_kota > truk:\n",
        "  print(\"Bus Kota paling cepat\")\n",
        "else:\n",
        "  print(\"Truk paling cepat\")\n",
        "\n",
        "print()\n",
        "\n",
        "print(\"Kasus 4-Udara, Laut, dan Darat\")\n",
        "drone = hitung_kecepatan(1200, 60)\n",
        "kapal_cepat = hitung_kecepatan(5000, 300)\n",
        "pemain_sepak_bola = hitung_kecepatan(60, 7)\n",
        "print(f\"Kecepatan Drone:{drone:.2f} m/s\")\n",
        "print(f\"Kecepatan Kapal Cepat:{kapal_cepat:.2f} m/s\")\n",
        "print(f\"Kecepatan Pemain Sepak Bola:{pemain_sepak_bola:.2f} m/s\")\n",
        "if drone > kapal_cepat and drone > pemain_sepak_bola:\n",
        "  print(\"Drone yang tercepat\")\n",
        "elif kapal_cepat > drone and kapal_cepat > pemain_sepak_bola:\n",
        "  print(\"Kapal cepat yang tercepat\")\n",
        "else:\n",
        "  print(\"Pemain Sepak Bola yang tercepat\")\n",
        "\n"
      ]
    }
  ]
}